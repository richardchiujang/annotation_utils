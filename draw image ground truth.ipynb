{
 "cells": [
  {
   "cell_type": "code",
   "execution_count": 1,
   "id": "85da3a76",
   "metadata": {},
   "outputs": [],
   "source": [
    "# draw image ground truth\n",
    "# for DBNet.pytorch 繪製 dataset\\train and test 的 ground truth 放在 img_with_gt 裡面供檢查label正確性\n",
    "# base_path = 'C:/applications/datasets/'  # dataset location \n",
    "# list_file = 'train.txt'                  # list file location  程式從這裡 train.txt or test.txt 讀取內容(清單)\n",
    "# program location C:\\applications\\annotation_tools\\annotation_utils\\\n",
    "# output location  C:\\applications\\annotation_tools\\annotation_utils\\img_with_gt"
   ]
  },
  {
   "cell_type": "code",
   "execution_count": 1,
   "id": "d1c68018",
   "metadata": {},
   "outputs": [],
   "source": [
    "# ! pip install matplotlib\n",
    "# ! pip install opencv-python\n",
    "# ! pip install tqdm\n",
    "import matplotlib.pyplot as plt\n",
    "import numpy as np\n",
    "import cv2\n",
    "import glob, shutil\n",
    "import tqdm\n",
    "import os\n",
    "# import time\n",
    "# from PIL import Image"
   ]
  },
  {
   "cell_type": "code",
   "execution_count": 3,
   "id": "c6358ac0",
   "metadata": {},
   "outputs": [],
   "source": [
    "def _load_txt(file_path: str):\n",
    "    with open(file_path, 'r', encoding='utf8') as f:\n",
    "        content = [x.strip().strip('\\ufeff').strip('\\xef\\xbb\\xbf') for x in f.readlines()]\n",
    "    return content\n",
    "\n",
    "def show_img(imgs: np.ndarray, title='img'):\n",
    "    color = (len(imgs.shape) == 3 and imgs.shape[-1] == 3)\n",
    "    imgs = np.expand_dims(imgs, axis=0)\n",
    "    for i, img in enumerate(imgs):\n",
    "        plt.imsave('img_with_gt/'+title.split('/')[-1], img, cmap=None if color else 'gray')  # cmap='Greys')\n",
    "#         plt.figure()\n",
    "#         plt.title('{}_{}'.format(title, i))\n",
    "#         plt.imshow(img, cmap=None if color else 'gray')\n",
    "#     plt.show()\n",
    "#     plt.savefig('./img_wgt/{}.jpg'.format(title))\n",
    "\n",
    "def draw_bbox(img_path, result, color=(0, 0, 255), thickness=2):\n",
    "    if isinstance(img_path, str):\n",
    "        img_path = cv2.imread(img_path)\n",
    "        img_path = cv2.cvtColor(img_path, cv2.COLOR_BGR2RGB)\n",
    "    img_path = img_path.copy()\n",
    "    for point in result:\n",
    "#         print(point.split(','))\n",
    "        point = point.split(',')[:8]\n",
    "        point = [int(x) for x in point]\n",
    "        point = np.array(point)\n",
    "        point = point.reshape((-1, 2))\n",
    "        cv2.polylines(img_path, [point], isClosed=True, color=(255, 0, 0), thickness=3)\n",
    "    return img_path"
   ]
  },
  {
   "cell_type": "code",
   "execution_count": 4,
   "id": "8a12ec0b",
   "metadata": {},
   "outputs": [
    {
     "name": "stdout",
     "output_type": "stream",
     "text": [
      "[WinError 183] 當檔案已存在時，無法建立該檔案。: 'img_with_gt'\n",
      "clear files in img_with_gt folder ready.\n"
     ]
    }
   ],
   "source": [
    "try:\n",
    "    os.mkdir('img_with_gt')\n",
    "    print('create folder img_with_gt')\n",
    "except Exception as e:\n",
    "    print(e)\n",
    "    rmfiles = glob.glob('img_with_gt/*')\n",
    "    for f in rmfiles:\n",
    "        os.remove(f)\n",
    "    print('clear files in img_with_gt folder ready.')\n",
    "\n",
    "   "
   ]
  },
  {
   "cell_type": "code",
   "execution_count": 6,
   "id": "d8c51784",
   "metadata": {},
   "outputs": [
    {
     "name": "stderr",
     "output_type": "stream",
     "text": [
      "100%|██████████| 100/100 [00:08<00:00, 11.65it/s]\n"
     ]
    }
   ],
   "source": [
    "base_path = 'C:/applications/datasets/'\n",
    "list_file = 'train.txt'\n",
    "f = open(base_path + list_file, 'r')\n",
    "file_pair = f.readlines()\n",
    "f.close()\n",
    "for s in tqdm.tqdm(file_pair[:100]):\n",
    "    a,b = s.rstrip('\\n').split('\\t')\n",
    "    a,b = a.replace('./datasets/', ''), b.replace('./datasets/', '')\n",
    "    content = _load_txt(base_path + b)\n",
    "#     print(a, b, len(content))\n",
    "    if len(content) > 0:\n",
    "        try:\n",
    "            img = draw_bbox(base_path + a, content)\n",
    "            show_img(img, a)\n",
    "        except Exception as e:\n",
    "            print(a, b, len(content), e)\n",
    "    else:\n",
    "        print(a, b, len(content))"
   ]
  },
  {
   "cell_type": "code",
   "execution_count": 13,
   "id": "77f9282c",
   "metadata": {},
   "outputs": [
    {
     "name": "stdout",
     "output_type": "stream",
     "text": [
      "65\n"
     ]
    }
   ],
   "source": [
    "# a = 'test/presentation_032.jpg'\n",
    "# b = 'test/presentation_032.txt'\n",
    "# content = _load_txt(b)\n",
    "# print(len(content))\n",
    "# img = draw_bbox(a, content)\n",
    "# show_img(img, a)"
   ]
  },
  {
   "cell_type": "code",
   "execution_count": null,
   "id": "42045f65",
   "metadata": {},
   "outputs": [],
   "source": [
    "\n"
   ]
  },
  {
   "cell_type": "code",
   "execution_count": null,
   "id": "97437538",
   "metadata": {},
   "outputs": [],
   "source": []
  },
  {
   "cell_type": "code",
   "execution_count": null,
   "id": "aa4814d8",
   "metadata": {},
   "outputs": [],
   "source": []
  },
  {
   "cell_type": "code",
   "execution_count": null,
   "id": "fef83605",
   "metadata": {},
   "outputs": [],
   "source": []
  },
  {
   "cell_type": "code",
   "execution_count": null,
   "id": "b6a21e25",
   "metadata": {},
   "outputs": [],
   "source": []
  }
 ],
 "metadata": {
  "kernelspec": {
   "display_name": "base",
   "language": "python",
   "name": "python3"
  },
  "language_info": {
   "codemirror_mode": {
    "name": "ipython",
    "version": 3
   },
   "file_extension": ".py",
   "mimetype": "text/x-python",
   "name": "python",
   "nbconvert_exporter": "python",
   "pygments_lexer": "ipython3",
   "version": "3.9.12 (main, Apr  4 2022, 05:22:27) [MSC v.1916 64 bit (AMD64)]"
  },
  "vscode": {
   "interpreter": {
    "hash": "ad2bdc8ecc057115af97d19610ffacc2b4e99fae6737bb82f5d7fb13d2f2c186"
   }
  }
 },
 "nbformat": 4,
 "nbformat_minor": 5
}
