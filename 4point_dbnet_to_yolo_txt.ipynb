{
 "cells": [
  {
   "cell_type": "code",
   "execution_count": null,
   "id": "08267608",
   "metadata": {},
   "outputs": [],
   "source": []
  },
  {
   "cell_type": "code",
   "execution_count": 1,
   "id": "d122d2da",
   "metadata": {},
   "outputs": [],
   "source": [
    "def convert(size, box):\n",
    "    dw = 1./size[0]\n",
    "    dh = 1./size[1]\n",
    "    x = (box[0] + box[1])/2.0\n",
    "    y = (box[2] + box[3])/2.0\n",
    "    w = box[1] - box[0]\n",
    "    h = box[3] - box[2]\n",
    "    x = x*dw\n",
    "    w = w*dw\n",
    "    y = y*dh\n",
    "    h = h*dh\n",
    "    return (x,y,w,h)\n",
    "\n",
    "# im=Image.open(img_path)\n",
    "# w= int(im.size[0])\n",
    "# h= int(im.size[1])\n",
    "\n",
    "\n",
    "# print(xmin, xmax, ymin, ymax) #define your x,y coordinates\n",
    "# b = (xmin, xmax, ymin, ymax)\n",
    "# bb = convert((w,h), b)"
   ]
  },
  {
   "cell_type": "code",
   "execution_count": 2,
   "id": "1574bddd",
   "metadata": {},
   "outputs": [
    {
     "data": {
      "text/plain": [
       "(0.3503125, 0.4754166666666667, -0.143125, -0.20750000000000002)"
      ]
     },
     "execution_count": 2,
     "metadata": {},
     "output_type": "execute_result"
    }
   ],
   "source": [
    "box=[675,446,695,446,695,451,675,451]\n",
    "size=(1600,1200)\n",
    "convert(size, box)"
   ]
  },
  {
   "cell_type": "code",
   "execution_count": null,
   "id": "9021e620",
   "metadata": {},
   "outputs": [],
   "source": []
  }
 ],
 "metadata": {
  "kernelspec": {
   "display_name": "base",
   "language": "python",
   "name": "python3"
  },
  "language_info": {
   "codemirror_mode": {
    "name": "ipython",
    "version": 3
   },
   "file_extension": ".py",
   "mimetype": "text/x-python",
   "name": "python",
   "nbconvert_exporter": "python",
   "pygments_lexer": "ipython3",
   "version": "3.9.12 (main, Apr  4 2022, 05:22:27) [MSC v.1916 64 bit (AMD64)]"
  },
  "vscode": {
   "interpreter": {
    "hash": "ad2bdc8ecc057115af97d19610ffacc2b4e99fae6737bb82f5d7fb13d2f2c186"
   }
  }
 },
 "nbformat": 4,
 "nbformat_minor": 5
}
