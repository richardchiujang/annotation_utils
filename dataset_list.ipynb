{
 "cells": [
  {
   "cell_type": "code",
   "execution_count": null,
   "id": "5745c543",
   "metadata": {},
   "outputs": [],
   "source": []
  },
  {
   "cell_type": "code",
   "execution_count": 10,
   "id": "2200d5e4",
   "metadata": {},
   "outputs": [],
   "source": [
    "import glob, os, shutil\n",
    "# 從指定路徑下將資料(更名prefix)搬到目的資料夾，並產生清單\n",
    "# TD_TR、ch4_test_images(ICDAR2015)\n",
    "# ./prepare/train\n",
    "#                /img\n",
    "#                /gt\n",
    "# ./prepare/test\n",
    "#               /img\n",
    "#               /gt\n",
    "# ./prepare/train.txt\n",
    "# ./prepare/test.txt\n",
    "\n",
    "# 在 prepare 下建立路徑架構\n",
    "def mk_folder():\n",
    "    path_list = ['./prepare/train', './prepare/train/img', './prepare/train/gt', './prepare/test', './prepare/test/img', './prepare/test/gt']\n",
    "    for p in path_list:\n",
    "        if not os.path.exists(p):\n",
    "            os.makedirs(p)\n",
    "mk_folder()\n",
    "\n",
    "def gendataset(images_path, gt_path, prefix, mode, num1=None, num2=None):\n",
    "    # mode = {train; test}\n",
    "    # prefix like {ICDAR2015; TD500; }\n",
    "    k = 0\n",
    "    out_file = './prepare/{}_{}.txt'.format(prefix, mode)\n",
    "    out_list = [] \n",
    "    imgs = [os.path.basename(x) for x in glob.glob(images_path+'/*.*')]\n",
    "#     print('number of {} {} images : {}'.format(prefix, mode, len(imgs)))\n",
    "    gts = [os.path.basename(x) for x in glob.glob(gt_path+'/*.txt')]\n",
    "    for i, j in zip(imgs[num1:num2], gts[num1:num2]):\n",
    "        if (i.split('.')[-1]).upper() != 'JPG':\n",
    "            pass\n",
    "        else:\n",
    "            src = images_path + '/' + i\n",
    "            dst = './prepare/{}/img/{}_{}'.format(mode, prefix, i)\n",
    "#             print(dst)\n",
    "            shutil.copyfile(src, dst)\n",
    "            src = gt_path + '/' + j\n",
    "            dst = './prepare/{}/gt/{}_{}'.format(mode, prefix, j)\n",
    "            shutil.copyfile(src, dst)   \n",
    "            # generate file list\n",
    "            line = './datasets/{}/img/{}_{}\\t./datasets/{}/gt/{}_{}'.format(mode, prefix, imgs[k], mode, prefix, gts[k])\n",
    "            out_list.append(line)\n",
    "        k+=1\n",
    "    print('number of {} {} images : {}'.format(prefix, mode, k))\n",
    "            \n",
    "    with open(out_file, 'w') as fp:\n",
    "        for item in out_list:\n",
    "            fp.write(\"%s\\n\" % item)\n",
    "        "
   ]
  },
  {
   "cell_type": "code",
   "execution_count": 11,
   "id": "02b8ab11",
   "metadata": {},
   "outputs": [
    {
     "name": "stdout",
     "output_type": "stream",
     "text": [
      "number of ICDAR2019 train images : 1200\n",
      "number of ICDAR2019 test images : 300\n",
      "number of selfdata train images : 50\n",
      "number of selfdata test images : 21\n"
     ]
    }
   ],
   "source": [
    "### ICDAR2015\n",
    "# gendataset('ch4_test_images', 'Challenge4_Test_Task1_GT', 'ICDAR2015', 'test')\n",
    "# gendataset('ch4_training_images', 'ch4_training_localization_transcription_gt', 'ICDAR2015', 'train')\n",
    "# gendataset('TD_TR/TD_TR/TD500/train_images', 'TD_TR/TD_TR/TD500/train_gts', 'TD500', 'train')\n",
    "# gendataset('TD_TR/TD_TR/TD500/test_images', 'TD_TR/TD_TR/TD500/test_gts', 'TD500', 'test')\n",
    "# gendataset('TD_TR/TD_TR/TR400/train_images', 'TD_TR/TD_TR/TR400/train_gts', 'TR400', 'train')\n",
    "gendataset('ImagesPart1/ImagesPart1', 'train_gt_t13', 'ICDAR2019', 'train')\n",
    "gendataset('ImagesPart1_test', 'train_gt_t13_test', 'ICDAR2019', 'test')\n",
    "gendataset('selfdata', 'selfdata_gt', 'selfdata', 'train')\n",
    "gendataset('selfdata_test', 'selfdata_gt_test', 'selfdata', 'test')"
   ]
  },
  {
   "cell_type": "code",
   "execution_count": 12,
   "id": "8888695f",
   "metadata": {},
   "outputs": [],
   "source": [
    "def gen_list_txt(mode, file_lists):\n",
    "    # mode {test; train}\n",
    "    # file_lists = [file1, file2, ...]        \n",
    "    gen_file = 'prepare/{}.txt'.format(mode)\n",
    "    filenames = file_lists\n",
    "    with open(gen_file, 'w') as outfile:\n",
    "        for fname in filenames:\n",
    "            fname_path = 'prepare/{}'.format(fname)\n",
    "            with open(fname_path) as infile:\n",
    "                outfile.write(infile.read())"
   ]
  },
  {
   "cell_type": "code",
   "execution_count": 14,
   "id": "e97db793",
   "metadata": {},
   "outputs": [],
   "source": [
    "# 產生清單檔案(合併不同的資料集的清單檔)\n",
    "# 然後手動將 train ; test ; train.txt ; test.txt 剪貼到 ./dataset 路徑下即可\n",
    "\n",
    "gen_list_txt('test', ['selfdata_test.txt','ICDAR2019_test.txt'])\n",
    "gen_list_txt('train', ['selfdata_train.txt','ICDAR2019_train.txt'])\n",
    "\n",
    "# gen_list_txt('test', ['selfdata_test.txt','ICDAR2015_test.txt'])\n",
    "# gen_list_txt('train', ['selfdata_train.txt','ICDAR2015_train.txt'])\n",
    "\n",
    "# gen_list_txt('test', ['selfdata_test.txt','ICDAR2015_test.txt','TD500_test.txt','ICDAR2019_test.txt'])\n",
    "# gen_list_txt('train', ['selfdata_train.txt','ICDAR2015_train.txt','ICDAR2019_train.txt','TD500_train.txt','TR400_train.txt'])"
   ]
  },
  {
   "cell_type": "code",
   "execution_count": null,
   "id": "deebde8b",
   "metadata": {},
   "outputs": [],
   "source": []
  },
  {
   "cell_type": "code",
   "execution_count": null,
   "id": "060caefd",
   "metadata": {},
   "outputs": [],
   "source": [
    "# import os, glob\n",
    "# imgs = [os.path.basename(x) for x in glob.glob('./train/img/*.jpg')]\n",
    "# # gts = [os.path.basename(x) for x in glob.glob('./train/gt/*.txt')]\n",
    "\n",
    "\n",
    "# imgs"
   ]
  },
  {
   "cell_type": "code",
   "execution_count": null,
   "id": "4a898fef",
   "metadata": {},
   "outputs": [],
   "source": [
    "# len(imgs)"
   ]
  },
  {
   "cell_type": "code",
   "execution_count": null,
   "id": "18fa2de0",
   "metadata": {},
   "outputs": [],
   "source": [
    "# len(gts)"
   ]
  },
  {
   "cell_type": "code",
   "execution_count": null,
   "id": "702f4212",
   "metadata": {},
   "outputs": [],
   "source": [
    "# for i in range(len(imgs)):\n",
    "# #     print('./datasets/train/img/{}\\t./datasets/train/gt/{}'.format(imgs[i], gts[i]))\n",
    "#     print('./datasets/test/img/{}\\t./datasets/test/gt/{}'.format(imgs[i], gts[i]))    "
   ]
  },
  {
   "cell_type": "code",
   "execution_count": null,
   "id": "44bbac73",
   "metadata": {},
   "outputs": [],
   "source": [
    "# import tqdm as notebook_tqdm\n",
    "# import torch\n",
    "# tensor = torch.rand(3,4)\n",
    "# print(f\"Device tensor is stored on: {tensor.device}\")\n",
    "# # Device tensor is stored on: cpu\n",
    "\n",
    "# print(torch.cuda.is_available())\n",
    "# #True\n",
    "\n",
    "# tensor = tensor.to('cuda')\n",
    "# print(f\"Device tensor is stored on: {tensor.device}\")\n",
    "# # Device tensor is stored on: cuda:0"
   ]
  },
  {
   "cell_type": "code",
   "execution_count": null,
   "id": "324c680a",
   "metadata": {},
   "outputs": [],
   "source": []
  },
  {
   "cell_type": "code",
   "execution_count": null,
   "id": "195b939c",
   "metadata": {},
   "outputs": [],
   "source": [
    "# import glob, os"
   ]
  },
  {
   "cell_type": "code",
   "execution_count": null,
   "id": "6914d9b3",
   "metadata": {},
   "outputs": [],
   "source": [
    "\n",
    "# imgs = [os.path.basename(x) for x in glob.glob('./TD_TR/TD_TR/TD500/test_gts/*.txt')]\n",
    "# imgs[:10]"
   ]
  },
  {
   "cell_type": "code",
   "execution_count": null,
   "id": "0a92fb6f",
   "metadata": {},
   "outputs": [],
   "source": [
    "# for f in imgs:\n",
    "#     os.rename('./TD_TR/TD_TR/TD500/test_gts/'+f, './TD_TR/TD_TR/TD500/test_gts/TD500'+f)"
   ]
  },
  {
   "cell_type": "code",
   "execution_count": null,
   "id": "e79bdc8c",
   "metadata": {},
   "outputs": [],
   "source": [
    "# import torch\n",
    "# device = torch.device(\"cuda:1\")\n",
    "# print(torch.cuda.is_available()) #查看cuda版本\n",
    "# print(torch.cuda.current_device()) #查看pytorch 是否能用 cuda\n",
    "# print(torch.cuda.device(0))\n",
    "# print(torch.cuda.device_count())\n",
    "# print(torch.cuda.get_device_name(0))\n",
    "# print(torch.version.cuda)"
   ]
  },
  {
   "cell_type": "code",
   "execution_count": 55,
   "id": "acd10431",
   "metadata": {},
   "outputs": [
    {
     "name": "stdout",
     "output_type": "stream",
     "text": [
      "已经将 10.jpg 添加到列表!\n",
      "已经将 1097097499_l.jpg 添加到列表!\n",
      "已经将 1111embaaidspractice_002.jpg 添加到列表!\n",
      "已经将 1234_002.jpg 添加到列表!\n",
      "已经将 2022-11-28 203426.jpg 添加到列表!\n",
      "已经将 2022-11-28 203549.jpg 添加到列表!\n",
      "已经将 2022-11-28 203646.jpg 添加到列表!\n",
      "已经将 2022052710040072844_002.jpg 添加到列表!\n",
      "已经将 51845016_57225768.721422.jpg 添加到列表!\n",
      "已经将 77777_011.jpg 添加到列表!\n",
      "已经将 77777_020.jpg 添加到列表!\n",
      "已经将 77777_044.jpg 添加到列表!\n",
      "已经将 77777_255.jpg 添加到列表!\n",
      "已经将 8797456_007.jpg 添加到列表!\n",
      "已经将 8797456_110.jpg 添加到列表!\n",
      "已经将 accenture-electric-vehicle-challenge_002.jpg 添加到列表!\n",
      "已经将 accenture-electric-vehicle-challenge_006.jpg 添加到列表!\n",
      "已经将 scantstartelcom_20221201_104112_006.jpg 添加到列表!\n",
      "已经将 test_547.jpg 添加到列表!\n",
      "已经将 test_994.jpg 添加到列表!\n",
      "已经将 ttt2.jpg 添加到列表!\n"
     ]
    }
   ],
   "source": [
    "# !pip install piexif\n",
    "import piexif\n",
    "import sys\n",
    "import os\n",
    "import re\n",
    "\n",
    "def remove_all_exif(image_names):\n",
    "    for image_name in image_names:\n",
    "        try:\n",
    "            piexif.remove(image_name)\n",
    "            print(image_name,\"exif信息清除完毕\")\n",
    "        except Exception:\n",
    "            pass\n",
    "\n",
    "\n",
    "def get_images(path):\n",
    "    all_file_names = os.listdir(path)\n",
    "    image_names = list()\n",
    "    for file_name in all_file_names:\n",
    "        if re.match(r\".*\\.(jpg|JPG|png)\",file_name):\n",
    "            image_names.append(file_name)\n",
    "            print(\"已经将\",file_name,\"添加到列表!\")\n",
    "        else:\n",
    "            pass\n",
    "    return image_names\n",
    "\n",
    "\n",
    "def main():\n",
    "    image_names = get_images('selfdata_test')\n",
    "    remove_all_exif(image_names)\n",
    "    \n",
    "    pass\n",
    "\n",
    "\n",
    "# if __name__ == \"__main__\":\n",
    "#     main()"
   ]
  },
  {
   "cell_type": "code",
   "execution_count": null,
   "id": "4f6d0c2e",
   "metadata": {},
   "outputs": [],
   "source": []
  },
  {
   "cell_type": "code",
   "execution_count": null,
   "id": "de472594",
   "metadata": {},
   "outputs": [],
   "source": []
  }
 ],
 "metadata": {
  "kernelspec": {
   "display_name": "base",
   "language": "python",
   "name": "python3"
  },
  "language_info": {
   "codemirror_mode": {
    "name": "ipython",
    "version": 3
   },
   "file_extension": ".py",
   "mimetype": "text/x-python",
   "name": "python",
   "nbconvert_exporter": "python",
   "pygments_lexer": "ipython3",
   "version": "3.9.12 (main, Apr  4 2022, 05:22:27) [MSC v.1916 64 bit (AMD64)]"
  },
  "vscode": {
   "interpreter": {
    "hash": "ad2bdc8ecc057115af97d19610ffacc2b4e99fae6737bb82f5d7fb13d2f2c186"
   }
  }
 },
 "nbformat": 4,
 "nbformat_minor": 5
}
