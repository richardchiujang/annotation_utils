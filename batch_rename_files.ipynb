{
 "cells": [
  {
   "cell_type": "code",
   "execution_count": 1,
   "metadata": {},
   "outputs": [
    {
     "data": {
      "text/plain": [
       "'\\nprocdataset\\nrename files\\n'"
      ]
     },
     "execution_count": 1,
     "metadata": {},
     "output_type": "execute_result"
    }
   ],
   "source": [
    "\"\"\"\n",
    "procdataset\n",
    "rename files\n",
    "\"\"\""
   ]
  },
  {
   "cell_type": "code",
   "execution_count": 2,
   "metadata": {},
   "outputs": [
    {
     "data": {
      "text/plain": [
       "['096NTPTC204025-001_001.jpg',\n",
       " '096NTPTC204025-001_002.jpg',\n",
       " '096NTPTC204025-001_003.jpg',\n",
       " '096NTPTC204025-001_004.jpg',\n",
       " '096NTPTC204025-001_005.jpg',\n",
       " '096NTPTC204025-001_006.jpg',\n",
       " '096NTPTC204025-001_007.jpg',\n",
       " '096NTPTC204025-001_008.jpg',\n",
       " '096NTPTC204025-001_009.jpg',\n",
       " '096NTPTC204025-001_010.jpg']"
      ]
     },
     "execution_count": 2,
     "metadata": {},
     "output_type": "execute_result"
    }
   ],
   "source": [
    "import os\n",
    "file_list = os.listdir('procdataset')\n",
    "file_list[:10]"
   ]
  },
  {
   "cell_type": "code",
   "execution_count": 3,
   "metadata": {},
   "outputs": [],
   "source": [
    "def match_files(file_list, match_words, replace_words):\n",
    "    count = 0\n",
    "    for f in file_list:\n",
    "        if f.find(match_words) !=-1:\n",
    "            if f[-4:]=='.jpg':\n",
    "                f_name = f.split('.jpg')[0]\n",
    "                f_new_name = f_name[-3:]\n",
    "                # print(f_new_name)\n",
    "                os.rename('procdataset/'+f, 'procdataset/{}_{}.jpg'.format(replace_words, f_new_name))\n",
    "            elif f[-4:]=='.xml':\n",
    "                f_name = f.split('.xml')[0]\n",
    "                f_new_name = f_name[-3:]\n",
    "                # print(f_new_name)\n",
    "                os.rename('procdataset/'+f, 'procdataset/{}_{}.xml'.format(replace_words, f_new_name))  \n",
    "            else:\n",
    "                f_name = f.split('.txt')[0]\n",
    "                f_new_name = f_name[-3:]\n",
    "                # print(f_new_name)\n",
    "                os.rename('procdataset/'+f, 'procdataset/{}_{}.txt'.format(replace_words, f_new_name))\n",
    "            count +=1\n",
    "    return print(count)"
   ]
  },
  {
   "cell_type": "code",
   "execution_count": 4,
   "metadata": {},
   "outputs": [
    {
     "name": "stdout",
     "output_type": "stream",
     "text": [
      "0\n",
      "180\n",
      "100\n",
      "0\n",
      "124\n",
      "0\n",
      "0\n",
      "43\n"
     ]
    }
   ],
   "source": [
    "match_files(file_list, 'Business.Today今周.1355-電動車軍火庫在台灣2022-12-12_', 'Business.Today_1355-EV')\n",
    "match_files(file_list, 'Wealth財訊.674-台積電再造日本矽島2022-12-08_', 'Wealth_new_674-2022-12-08')\n",
    "match_files(file_list, '先探週刊第222期拜登訪台積電信賴產業鏈值千金2022-12-08i_', 'pioneeo_222_2022')\n",
    "match_files(file_list, 'Business.Today_1355-EV_', 'BusinessToday_135599-EV')\n",
    "match_files(file_list, '天下雜誌特刊TheWorldAhead2023全球大趨勢2022-12-09_', 'tenshiaTheWorldAhead20232022-12-09')\n",
    "match_files(file_list, '东方证券-爱奇艺(IQ.US)3Q22季报点评：自由现金流首次转正，会员业务持续承压-221205_', 'donfunjunchen_3Q22_221205')\n",
    "match_files(file_list, '兴业证券-脸书(META.US)Meta+系列深度(一)：社交平台全球龙头，广告增速有望见底-221206_', 'shinya_meta_221206')\n",
    "match_files(file_list, 'VISA消費者支付態度報告2021_', 'VISAbogau2021')\n"
   ]
  },
  {
   "cell_type": "code",
   "execution_count": 4,
   "metadata": {},
   "outputs": [],
   "source": [
    "\n",
    "          "
   ]
  },
  {
   "cell_type": "code",
   "execution_count": null,
   "metadata": {},
   "outputs": [],
   "source": []
  }
 ],
 "metadata": {
  "kernelspec": {
   "display_name": "base",
   "language": "python",
   "name": "python3"
  },
  "language_info": {
   "codemirror_mode": {
    "name": "ipython",
    "version": 3
   },
   "file_extension": ".py",
   "mimetype": "text/x-python",
   "name": "python",
   "nbconvert_exporter": "python",
   "pygments_lexer": "ipython3",
   "version": "3.9.12 (main, Apr  4 2022, 05:22:27) [MSC v.1916 64 bit (AMD64)]"
  },
  "orig_nbformat": 4,
  "vscode": {
   "interpreter": {
    "hash": "ad2bdc8ecc057115af97d19610ffacc2b4e99fae6737bb82f5d7fb13d2f2c186"
   }
  }
 },
 "nbformat": 4,
 "nbformat_minor": 2
}
