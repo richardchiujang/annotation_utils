{
 "cells": [
  {
   "cell_type": "code",
   "execution_count": 1,
   "id": "b0dba893",
   "metadata": {},
   "outputs": [],
   "source": [
    "import glob, os\n",
    "import xml.etree.ElementTree as ET\n",
    "\n",
    "def read_content(xml_file: str):\n",
    "    tree = ET.parse(xml_file)\n",
    "    root = tree.getroot()\n",
    "    list_with_all_boxes = []\n",
    "    for boxes in root.iter('object'):\n",
    "        filename = root.find('filename').text\n",
    "        ymin, xmin, ymax, xmax = None, None, None, None\n",
    "        ymin = int(boxes.find(\"bndbox/ymin\").text)\n",
    "        xmin = int(boxes.find(\"bndbox/xmin\").text)\n",
    "        ymax = int(boxes.find(\"bndbox/ymax\").text)\n",
    "        xmax = int(boxes.find(\"bndbox/xmax\").text)\n",
    "        list_with_single_boxes = [xmin, ymin, xmax, ymax]\n",
    "        list_with_all_boxes.append(list_with_single_boxes)\n",
    "    return filename, list_with_all_boxes\n",
    "\n",
    "def convet_bndbox_to_dbnet_label(list_with_all_boxes: list):\n",
    "    # [ymin, xmin, ymax, xmax] -> 'xmin,ymin,xmax,ymin,xmax,ymax,xmin,ymax,###'\n",
    "    labels = []\n",
    "    for bbox in list_with_all_boxes:\n",
    "        xmin, ymin, xmax, ymax = bbox\n",
    "        label = '{},{},{},{},{},{},{},{},###'.format(xmin,ymin,xmax,ymin,xmax,ymax,xmin,ymax)\n",
    "        labels.append(label)\n",
    "    return labels\n",
    "\n",
    "def write_to_gt_txt_file(xml_filename, labels, target_path=None):\n",
    "    fname = (xml_filename.split('/')[-1]).split('.xml')[0]\n",
    "    # open file in write mode\n",
    "    with open(target_path+'/'+fname+'.txt', 'w') as fp:\n",
    "        for item in labels:\n",
    "            # write each item on a new line\n",
    "            fp.write(\"%s\\n\" % item)\n",
    "        print('Done') "
   ]
  },
  {
   "cell_type": "code",
   "execution_count": 2,
   "id": "afca5b4d",
   "metadata": {},
   "outputs": [
    {
     "name": "stdout",
     "output_type": "stream",
     "text": [
      "Done\n",
      "Done\n",
      "Done\n",
      "Done\n",
      "Done\n",
      "Done\n",
      "Done\n",
      "Done\n",
      "Done\n",
      "Done\n",
      "Done\n",
      "Done\n",
      "Done\n",
      "Done\n",
      "Done\n",
      "Done\n",
      "Done\n",
      "Done\n",
      "Done\n",
      "Done\n",
      "Done\n",
      "Done\n",
      "Done\n",
      "Done\n",
      "Done\n",
      "Done\n",
      "Done\n",
      "Done\n",
      "Done\n",
      "Done\n",
      "Done\n",
      "Done\n",
      "Done\n",
      "Done\n",
      "Done\n",
      "Done\n",
      "Done\n",
      "Done\n"
     ]
    }
   ],
   "source": [
    "files = glob.glob('demo/*.xml')     # [os.path.basename(x) for x in glob.glob('demo/*.xml')]\n",
    "for f in files:\n",
    "    filename, list_with_all_boxes = read_content(f)\n",
    "#     print(filename, list_with_all_boxes)\n",
    "    labels = convet_bndbox_to_dbnet_label(list_with_all_boxes)\n",
    "    write_to_gt_txt_file(f, labels, './')"
   ]
  },
  {
   "cell_type": "code",
   "execution_count": 4,
   "id": "32a08885",
   "metadata": {},
   "outputs": [],
   "source": [
    "# labels = convet_bndbox_to_dbnet_label(boxes)\n",
    "# labels"
   ]
  },
  {
   "cell_type": "code",
   "execution_count": 5,
   "id": "40a4013a",
   "metadata": {},
   "outputs": [],
   "source": [
    "# write_to_gt_txt_file(\"demo/demo5.xml\", labels, 'demo')"
   ]
  },
  {
   "cell_type": "code",
   "execution_count": 6,
   "id": "8d8854f0",
   "metadata": {},
   "outputs": [],
   "source": [
    "# glob.glob('demo\\\\*.xml')"
   ]
  },
  {
   "cell_type": "code",
   "execution_count": null,
   "id": "89dd76c2",
   "metadata": {},
   "outputs": [],
   "source": []
  }
 ],
 "metadata": {
  "kernelspec": {
   "display_name": "Python 3 (ipykernel)",
   "language": "python",
   "name": "python3"
  },
  "language_info": {
   "codemirror_mode": {
    "name": "ipython",
    "version": 3
   },
   "file_extension": ".py",
   "mimetype": "text/x-python",
   "name": "python",
   "nbconvert_exporter": "python",
   "pygments_lexer": "ipython3",
   "version": "3.9.12"
  }
 },
 "nbformat": 4,
 "nbformat_minor": 5
}
